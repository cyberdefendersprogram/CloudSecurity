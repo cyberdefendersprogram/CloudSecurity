{
  "nbformat": 4,
  "nbformat_minor": 0,
  "metadata": {
    "colab": {
      "provenance": [],
      "name": "FP_GuerraBeatty.ipynb",
      "authorship_tag": "ABX9TyNAxOXrxNzRkLXiuZ7mblDJ",
      "include_colab_link": true
    },
    "kernelspec": {
      "name": "python3",
      "display_name": "Python 3"
    },
    "language_info": {
      "name": "python"
    }
  },
  "cells": [
    {
      "cell_type": "markdown",
      "metadata": {
        "id": "view-in-github",
        "colab_type": "text"
      },
      "source": [
        "<a href=\"https://colab.research.google.com/github/cyberdefendersprogram/CloudSecurity/blob/master/FP_GuerraBeatty.ipynb\" target=\"_parent\"><img src=\"https://colab.research.google.com/assets/colab-badge.svg\" alt=\"Open In Colab\"/></a>"
      ]
    },
    {
      "cell_type": "markdown",
      "source": [
        "Final Project Draft 3\n",
        "Carolyn Beatty and Justine Guerra\n",
        "Python Academy\n",
        "1/19/2023"
      ],
      "metadata": {
        "id": "LzL3wujw3xPc"
      }
    },
    {
      "cell_type": "markdown",
      "source": [],
      "metadata": {
        "id": "S7vMq6GP365H"
      }
    },
    {
      "cell_type": "code",
      "source": [
        "import string\n",
        "\n",
        "# FIRST Import text pasting it as input\n",
        "\n",
        "# Input text\n",
        "inputtedText=input(\"Paste your text here:  \")\n",
        "testTxt = inputtedText\n",
        "print(testTxt)\n"
      ],
      "metadata": {
        "colab": {
          "base_uri": "https://localhost:8080/"
        },
        "id": "fFVEq8PsbG4J",
        "outputId": "c1594ad4-26d9-4362-f9a4-9cdb9099f329"
      },
      "execution_count": 1,
      "outputs": [
        {
          "output_type": "stream",
          "name": "stdout",
          "text": [
            "Paste your text here:  Jupiter issued a proclamation to all the beasts of the forest and promised a royal reward to the one whose offspring should be deemed the handsomest.  The Monkey came with the rest and presented, with all a mother's tenderness, a flat-nosed, hairless, ill-featured young Monkey as a candidate for the promised reward.  A general laugh saluted her on the presentation of her son.  She resolutely said, \"I know not whether Jupiter will allot the prize to my son, but this I do know, that he is at least in the eyes of me his mother, the dearest, handsomest, and most beautiful of all creatures.\"  \n",
            "Jupiter issued a proclamation to all the beasts of the forest and promised a royal reward to the one whose offspring should be deemed the handsomest.  The Monkey came with the rest and presented, with all a mother's tenderness, a flat-nosed, hairless, ill-featured young Monkey as a candidate for the promised reward.  A general laugh saluted her on the presentation of her son.  She resolutely said, \"I know not whether Jupiter will allot the prize to my son, but this I do know, that he is at least in the eyes of me his mother, the dearest, handsomest, and most beautiful of all creatures.\"  \n"
          ]
        }
      ]
    },
    {
      "cell_type": "code",
      "source": [
        "# SECOND Count the Sentences\n",
        "\n",
        "# initialize numSentences\n",
        "numSentences=0\n",
        "\n",
        "# Identify and count the number of sentences\n",
        "for char in testTxt:\n",
        "    if char==\".\" or char==\"?\" or char==\"!\": # NOTE: \n",
        "        numSentences+=1 \n",
        "print(f\"There are {numSentences} sentences.\")\n"
      ],
      "metadata": {
        "id": "l9jhv7sLBSMf",
        "outputId": "cda26525-6da6-4950-d348-e0743d00096e",
        "colab": {
          "base_uri": "https://localhost:8080/"
        }
      },
      "execution_count": 2,
      "outputs": [
        {
          "output_type": "stream",
          "name": "stdout",
          "text": [
            "There are 4 sentences.\n"
          ]
        }
      ]
    },
    {
      "cell_type": "code",
      "source": [
        "# THIRD Count the number of words\n",
        "\n",
        "wordCount=len(testTxt.split(\" \"))\n",
        "print(f\"There are {wordCount} words.\")\n"
      ],
      "metadata": {
        "id": "o3os_5Ku4TNp",
        "colab": {
          "base_uri": "https://localhost:8080/"
        },
        "outputId": "7dc19b43-a973-4f1e-e523-d145026ccad9"
      },
      "execution_count": 3,
      "outputs": [
        {
          "output_type": "stream",
          "name": "stdout",
          "text": [
            "There are 109 words.\n"
          ]
        }
      ]
    },
    {
      "cell_type": "code",
      "source": [
        "# FOURTH run the function to count syllables for each word:\n",
        "\n",
        "def count_syllables(word):\n",
        "   \n",
        "    word=word.casefold()\n",
        "\n",
        "    # remove punctuation prior to counting syllables from https://www.geeksforgeeks.org/python-remove-punctuation-from-string/\n",
        "    word=word.translate(str.maketrans('','',string.punctuation))\n",
        "\n",
        "    # print(word)\n",
        "  # initialize variables used in vowel count\n",
        "    count=0\n",
        "    vowels=\"aeiouy\"\n",
        "\n",
        "# count the number of vowels after having removed punctuation :\n",
        "\n",
        "    for i in range(0,len(word)):\n",
        "       if word[i] in vowels:\n",
        "          count +=1 \n",
        "    #print(f\"Vowel count: {count}\")\n",
        "\n",
        "# remove from count based on syllable and Fog Readability Index rules:\n",
        "\n",
        "# iou count- and ou count -=1\n",
        "    if len(word)>3:\n",
        "        for i in range(0,len(word)-2):  \n",
        "            if (word[i]==\"i\" and word[i+1]==\"o\" and word[i+2]==\"u\") :\n",
        "                count-=2        \n",
        "        for i in range(0,len(word)-1):\n",
        "            if word[i]==\"o\" and word[i+1]==\"u\":\n",
        "                count-=1 \n",
        "\n",
        "# uai -=2 and ai -=1\n",
        "    if len(word)>3:\n",
        "        for i in range(0, len(word)-2): \n",
        "            if word[i]==\"u\" and word[i+1]==\"a\" and word[i+2]==\"i\":\n",
        "                count-=2 \n",
        "        for i in range(0,len(word)-1):\n",
        "            if word[i]==\"a\" and word[i+1]==\"i\":\n",
        "                count-=1\n",
        "\n",
        "  # ize, ise ive count-=1     \n",
        "    if len(word)>3:\n",
        "        for i in range(0, len(word)-2):    \n",
        "            if word[i]==\"i\" and word[i+1]==\"z\" and word[i+2]==\"e\":\n",
        "                count-=1 \n",
        "            if word[i]==\"i\" and word[i+1]==\"s\" and word[i+2]==\"e\":\n",
        "                count-=1 \n",
        "            if word[i]==\"i\" and word[i+1]==\"v\" and word[i+2]==\"e\":\n",
        "                count-=1\n",
        "  # ove, ave, ive - NOTE: Excludes government\n",
        "    if word!= \"government\" and len(word)> 3:\n",
        "        for i in range(0, len(word)-2):\n",
        "            if (word[i]==\"o\" and word[i+1]==\"v\" and word[i+2]==\"e\") or \\\n",
        "            (word[i]==\"i\" and word[i+1]==\"v\" and word[i+2]==\"e\") or \\\n",
        "            (word[i]==\"a\" and word[i+1]==\"v\" and word[i+2]==\"e\") or \\\n",
        "            (word[i]==\"a\" and word[i+1]==\"r\" and word[i+2]==\"e\"):\n",
        "                count-=1 \n",
        "\n",
        "  #  -yea, and  -eau  -=2 and  -au, -ea -=1\n",
        "    if len(word)>=3:\n",
        "        for i in range(0, len(word)-2):\n",
        "            if (word[i]==\"e\" and word[i+1]==\"a\" and word[i+2]==\"u\") or \\\n",
        "               (word[i]==\"y\" and word[i+1]==\"e\" and word[i+2]==\"a\"):\n",
        "                  count-=2 \n",
        "        for i in range(0,len(word)-1):\n",
        "            if (word[i]==\"a\" and word[i+1]==\"u\") or \\\n",
        "               (word[i]==\"e\" and word[i+1]==\"a\"):\n",
        "                  count-=1                \n",
        "\n",
        "  # Silent e's (NOT all inclusive)\n",
        "  # ase ate,ite ice, are, ore, ire  and ure -=1 \n",
        "    if len(word)>2:\n",
        "        for i in range(0, len(word)-2):\n",
        "            if (word[i]==\"a\" and word[i+1]==\"s\" and word[i+2]==\"e\")or\\\n",
        "            (word[i]==\"a\" and word[i+1]==\"c\" and word[i+2]==\"e\")or\\\n",
        "            (word[i]==\"a\" and word[i+1]==\"t\" and word[i+2]==\"e\")or\\\n",
        "            (word[i]==\"i\" and word[i+1]==\"t\" and word[i+2]==\"e\")or \\\n",
        "            (word[i]==\"i\" and word[i+1]==\"c\" and word[i+2]==\"e\") or \\\n",
        "            (word[i]==\"i\" and word[i+1]==\"r\" and word[i+2]==\"e\") or \\\n",
        "            (word[i]==\"i\" and word[i+1]==\"r\" and word[i+2]==\"e\") or \\\n",
        "            (word[i]==\"o\" and word[i+1]==\"r\" and word[i+2]==\"e\") or \\\n",
        "            (word[i]==\"a\" and word[i+1]==\"r\" and word[i+2]==\"e\") or\\\n",
        "            (word[i]==\"u\" and word[i+1]==\"r\" and word[i+2]==\"e\"):\n",
        "                count-=1 \n",
        "\n",
        "  # oo and ee  -=1\n",
        "    if len(word)>2:\n",
        "        for i in range(0, len(word)-2):    \n",
        "            if (word[i]==\"o\" and word[i+1]==\"o\") or (word[i]==\"e\" and word[i+1]==\"e\"):\n",
        "                count-=1 \n",
        "\n",
        " # ue, uo, ui and ua words\n",
        "    if len(word)>2:\n",
        "       for i in range(0, len(word)-1):\n",
        "            if (word[i]==\"u\" and word[i+1]==\"e\") or \\\n",
        "            (word[i]==\"u\" and word[i+1]==\"a\") or \\\n",
        "            (word[i]==\"u\" and word[i+1]==\"i\") or \\\n",
        "            (word[i]==\"u\" and word[i+1]==\"o\"):\n",
        "                count-=1\n",
        "\n",
        "  # -yu, -oy, -ey and -ay -=1\n",
        "    if len(word)>2:\n",
        "        for i in range(0, len(word)-2):    \n",
        "            if (word[i]==\"o\" and word[i+1]==\"y\") or (word[i]==\"a\" and word[i+1]==\"y\") or (word[i]==\"y\" and word[i+1]==\"u\") or (word[-2]==\"e\" and word[-1]==\"y\"):\n",
        "                count-=1      \n",
        "\n",
        "  #  -tion -=1\n",
        "    if len(word)>4:\n",
        "        for i in range(0,len(word)-3): \n",
        "            if word[i]==\"t\" and word[i+1]==\"i\" and word[i+2]==\"o\" and word[i+3]==\"n\":\n",
        "                count-=1 \n",
        "\n",
        " # -ial -=1 \n",
        "    if len(word)>2:\n",
        "        for i in range(0,len(word)-2): \n",
        "            if word[i]==\"i\" and word[i+1]==\"a\" and word[i+2]==\"l\" :\n",
        "                count-=1 \n",
        "\n",
        "  # add a vowel if the word ends in m\n",
        "    if len(word)>2:\n",
        "      for i in range(0,len(word)-2): \n",
        "          if word[-1]==\"m\" and word[-2] not in vowels:\n",
        "              count+=1\n",
        "\n",
        "  # remove a count for words that end in ie \n",
        "    if len(word)>2:\n",
        "      for i in range(0,len(word)-2): \n",
        "        if (word[-1]==\"e\" and word[-2]==\"i\") :\n",
        "          count-=1\n",
        "\n",
        "  # word ending in ely -=1\n",
        "    if len(word)>3:\n",
        "      if word[-1]==\"y\" and word[-2]==\"l\" and word[-3]==\"e\":\n",
        "        count-=1\n",
        "\n",
        "  # -ence -=1\n",
        "    if len(word)>4:\n",
        "      if word[-1]==\"e\" and word[-2]==\"c\" and word[-3]==\"n\" and word[-4==\"e\"]:\n",
        "        count-=1 \n",
        "\n",
        "  # word ending in ed -=1  (according to FOG, these are not counted)\n",
        "    if len(word)>3:\n",
        "      if (word[-1]==\"d\" and word[-2]==\"e\") or (word[-1]==\".\" and word[-2]==\"d\" and word[-3]==\"e\"):\n",
        "        count-=1\n",
        "\n",
        "    # word ending in -es and -est (according to FOG, these are not counted)\n",
        "    if len(word)>3:\n",
        "      if (word[-1]==\"t\" and word[-2]==\"s\" and word[-3]==\"e\") or (word[-1]==\"s\" and word[-2]==\"e\"): \n",
        "        count-=1\n",
        "\n",
        "    # word ending in -ing (according to FOG, -ing is not counted)\n",
        "    if len(word)>3:\n",
        "      if (word[-1]==\"g\" and word[-2]==\"i\" and word[-3]==\"n\"): \n",
        "        count-=1\n",
        "\n",
        "  #  print(f\"{word} syllable count: {count}\")\n",
        "    \n",
        "    return count\n",
        "   \n",
        "\n",
        "#____________________End Syllable Count____________________________________#\n",
        "# Syllable test:\n",
        "# count_syllables(\"government\")"
      ],
      "metadata": {
        "id": "3odxyElXpNEL"
      },
      "execution_count": 4,
      "outputs": []
    },
    {
      "cell_type": "code",
      "source": [
        "# FIFTH Count number of words with 3+ syllables\n",
        "\n",
        "def large_word_count(text):\n",
        "  words=text.split()\n",
        "  complexWords=0\n",
        "  \n",
        "  for i in words:\n",
        "    count=count_syllables(i)\n",
        "    if count>=3:\n",
        "      complexWords+=1\n",
        "      # print(i) # includes propper nouns excluded below\n",
        "  \n",
        "  # shortcut for excluding proper nouns in current texts:\n",
        "  for i in words:\n",
        "    if i==\"Jupiter\" or i==\"December\" or i==\"Dongyan,\" or i==\"National\" or i==\"University\" or i==\"Commission\":\n",
        "      complexWords-=1\n",
        "\n",
        "  # \n",
        "\n",
        "  return complexWords\n",
        "print(f\"Number of Words with 3+ Syllables: {complexWords}\")\n",
        "large_word_count(testTxt)"
      ],
      "metadata": {
        "id": "B_7FcUzN49rK",
        "colab": {
          "base_uri": "https://localhost:8080/",
          "height": 217
        },
        "outputId": "ea8703f3-a59f-4e90-d587-46254addb848"
      },
      "execution_count": 5,
      "outputs": [
        {
          "output_type": "error",
          "ename": "NameError",
          "evalue": "ignored",
          "traceback": [
            "\u001b[0;31m---------------------------------------------------------------------------\u001b[0m",
            "\u001b[0;31mNameError\u001b[0m                                 Traceback (most recent call last)",
            "\u001b[0;32m<ipython-input-5-fbbbab14b0bc>\u001b[0m in \u001b[0;36m<module>\u001b[0;34m\u001b[0m\n\u001b[1;32m     19\u001b[0m \u001b[0;34m\u001b[0m\u001b[0m\n\u001b[1;32m     20\u001b[0m   \u001b[0;32mreturn\u001b[0m \u001b[0mcomplexWords\u001b[0m\u001b[0;34m\u001b[0m\u001b[0;34m\u001b[0m\u001b[0m\n\u001b[0;32m---> 21\u001b[0;31m \u001b[0mprint\u001b[0m\u001b[0;34m(\u001b[0m\u001b[0;34mf\"Number of Words with 3+ Syllables: {complexWords}\"\u001b[0m\u001b[0;34m)\u001b[0m\u001b[0;34m\u001b[0m\u001b[0;34m\u001b[0m\u001b[0m\n\u001b[0m\u001b[1;32m     22\u001b[0m \u001b[0mlarge_word_count\u001b[0m\u001b[0;34m(\u001b[0m\u001b[0mtestTxt\u001b[0m\u001b[0;34m)\u001b[0m\u001b[0;34m\u001b[0m\u001b[0;34m\u001b[0m\u001b[0m\n",
            "\u001b[0;31mNameError\u001b[0m: name 'complexWords' is not defined"
          ]
        }
      ]
    },
    {
      "cell_type": "code",
      "source": [
        "# SIXTH Calculate the The Gunning’s Fog Index (or FOG) Readability Score\n",
        "# FOG Score = 0.4 * ((totalWords/totalSentences)+100*(complexWords/totalWords))\n",
        "\n",
        "#Output variables used to calculate the Fog Index Readability Score\n",
        "print(\"Word Count: \",wordCount)\n",
        "print(\"Number of Sentences: \", numSentences)\n",
        "complexWords=large_word_count(testTxt)\n",
        "print(\"Number of Words with 3+ Syllables: \", complexWords)\n",
        "\n",
        "# Fog Index Readability Score\n",
        "fogScore =.4* ((wordCount/numSentences)+100.0*(complexWords/wordCount))\n",
        "print()\n",
        "# Print the Fog Index Readability Score\n",
        "print(f\"Fog Score: {fogScore: .1f}\")\n",
        "# Print the grade-level equivalency\n",
        "if fogScore<6:\n",
        "  print(\"Reading level: Elementary school\")\n",
        "if fogScore>=6 and fogScore<7:\n",
        "  print(\"Reading level: 6th grade\")\n",
        "elif fogScore>=7 and fogScore<8:\n",
        "  print(\"Reading level: 7th grade\")\n",
        "elif fogScore>=8 and fogScore<9:\n",
        "  print(\"Reading level: 8th grade\")\n",
        "elif fogScore>=9 and fogScore<10:\n",
        "  print(\"Reading level: High school freshman\")\n",
        "elif fogScore>=10 and fogScore<11:\n",
        "  print(\"Reading level: High school sophomore\")\n",
        "elif fogScore>=11 and fogScore<12:\n",
        "  print(\"Reading level: High school junior\")\n",
        "elif fogScore>=12 and fogScore<13:\n",
        "  print(\"Reading level: High school senior\")\n",
        "elif fogScore>=13 and fogScore<14:\n",
        "  print(\"Reading level: College freshman\")\n",
        "elif fogScore>=14 and fogScore<15:\n",
        "  print(\"Reading level: College sophomore\")\n",
        "elif fogScore>=15 and fogScore<16:\n",
        "  print(\"Reading level: College junior\")\n",
        "elif fogScore>16 and fogScore<17:\n",
        "  print(\"Reading level: College senior\")\n",
        "elif fogScore>17 and fogScore<=20:\n",
        "  print(\"Reading level: Post-college-graduate\")\n",
        "elif  fogScore>20:\n",
        "    print(\"Reading level: Post-college-graduate Plus \")\n",
        "\n",
        "    "
      ],
      "metadata": {
        "id": "NtG_vJOf5Ss3",
        "colab": {
          "base_uri": "https://localhost:8080/"
        },
        "outputId": "067421e8-8802-4043-d416-284456d2126a"
      },
      "execution_count": 6,
      "outputs": [
        {
          "output_type": "stream",
          "name": "stdout",
          "text": [
            "Word Count:  109\n",
            "Number of Sentences:  4\n",
            "Number of Words with 3+ Syllables:  4\n",
            "\n",
            "Fog Score:  12.4\n",
            "Reading level: High school senior\n"
          ]
        }
      ]
    },
    {
      "cell_type": "code",
      "source": [
        "\"\"\" Future Work:\n",
        "•In new text, proper nouns are not currently identified\n",
        "•Hyphenated words are currently being counted as one word\n",
        "•English has many exceptions to basic syllable rules: a dictionary could be added to account for these words\n",
        "•Functions should be implemented for the syllable rules \"\"\"\n"
      ],
      "metadata": {
        "id": "A47mm-pi38Kt"
      },
      "execution_count": null,
      "outputs": []
    }
  ]
}