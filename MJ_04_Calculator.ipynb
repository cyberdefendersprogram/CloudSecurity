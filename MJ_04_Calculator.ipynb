{
  "nbformat": 4,
  "nbformat_minor": 0,
  "metadata": {
    "colab": {
      "provenance": [],
      "authorship_tag": "ABX9TyM1T3bW6YLbXo7yUE01PViw",
      "include_colab_link": true
    },
    "kernelspec": {
      "name": "python3",
      "display_name": "Python 3"
    },
    "language_info": {
      "name": "python"
    }
  },
  "cells": [
    {
      "cell_type": "markdown",
      "metadata": {
        "id": "view-in-github",
        "colab_type": "text"
      },
      "source": [
        "<a href=\"https://colab.research.google.com/github/cyberdefendersprogram/CloudSecurity/blob/master/MJ_04_Calculator.ipynb\" target=\"_parent\"><img src=\"https://colab.research.google.com/assets/colab-badge.svg\" alt=\"Open In Colab\"/></a>"
      ]
    },
    {
      "cell_type": "markdown",
      "source": [
        "# Original Calculator"
      ],
      "metadata": {
        "id": "1BYZDcyH1D5K"
      }
    },
    {
      "cell_type": "code",
      "source": [
        "def basic_calculator(num1: int, num2: int, op: str):\n",
        "  '''Makes basic calculations using arithmetic\n",
        "     Catches ZeroDivisionError and returns undefined'''\n",
        "  if (op == '**'):\n",
        "    return num1 ** num2\n",
        "  if (op == '*'):\n",
        "    return num1 * num2\n",
        "  try:\n",
        "    if (op == '/'):\n",
        "      return num1 / num2\n",
        "  except ZeroDivisionError:\n",
        "    return 'undefined'\n",
        "  if (op == '+'):\n",
        "    return num1 + num2\n",
        "  if (op == '-'):\n",
        "    return num1 -num2\n",
        "\n",
        "def tester(operation: str,calculatedResult: basic_calculator, expectedResult: int):\n",
        "  '''Tests operations of calculator function\n",
        "     Determines if calculated value equals expected value'''\n",
        "  if calculatedResult == expectedResult:\n",
        "    print(f'Equation involving {operation}: is Correct')\n",
        "  else:\n",
        "    print(f'Equation involving {operation}: is Incorrect')\n",
        "\n",
        "tester('addition',basic_calculator(1,2,'+'),3)\n",
        "tester('subtraction',basic_calculator(3,5,'-'),-2)\n",
        "tester('multiplication',basic_calculator(5,4,'*'),20)\n",
        "tester('division',basic_calculator(10,2,'/'),5)\n",
        "tester('exponential',basic_calculator(5,5,'**'),3125)\n",
        "tester('addition',basic_calculator(2,2,'+'),22)\n",
        "\n",
        "def userInputCalc():    #main calculator function with user input\n",
        "  '''Takes user input of 2 numbers.\n",
        "     Makes sure inputs are actually numbers\n",
        "     Asks for re-entry if non-numbers are entered\n",
        "     Calculates result using calculator function\n",
        "     Will keep asking for numbers after each calculation until loop is asked to stop by typing n when prompted'''\n",
        "  keepGoing = 'y'\n",
        "  print('Feed me numbers and I will perform basic calculations with them')\n",
        "  while keepGoing == 'y':  #as long as user inputs y when asked, loop will repeat\n",
        "    try:   #try, except, makes sure that input is a number and not anything else\n",
        "      num1 = float(input('Give me a number: '))\n",
        "      num2 = float(input('Give me another number: '))\n",
        "    except ValueError:\n",
        "      print('Invalid input. Lets restart: ')\n",
        "      continue  #continues in try and excpet if input is anything but number, keeps going until input is correct\n",
        "    op = input('Which operation would you like me to perform? (** , * , / , + , -) ? ')\n",
        "    result = basic_calculator(num1, num2, op)  #calls calculator function to produce a result\n",
        "    print(f'The equation {num1} {op} {num2} = {result}')\n",
        "    keepGoing = input('Would you like to calculate more (y/n)? ')\n",
        "    if keepGoing == 'n':   #once user enters n, loop will end and calculator will say goodbye\n",
        "      print('Goodbye')\n",
        "\n",
        "\n",
        "userInputCalc()"
      ],
      "metadata": {
        "id": "t1TyEu071ISo"
      },
      "execution_count": null,
      "outputs": []
    },
    {
      "cell_type": "markdown",
      "source": [
        "# class Calculator:"
      ],
      "metadata": {
        "id": "zHLxEKsC1Kdp"
      }
    },
    {
      "cell_type": "code",
      "source": [
        "#still playing around with tester function\n",
        "\n",
        "class Calculator:\n",
        "\n",
        "  def __init__(self, num1, num2): #op):\n",
        "    self.num1 = float(num1)\n",
        "    self.num2 = float(num2)\n",
        "    #self.op = str(op)\n",
        "\n",
        "  #def calculate(self):\n",
        "    #if self.op == '+':\n",
        "      #return self.num1 + self.num2\n",
        "    # can make other ops through if statements with this format\n",
        "    #must keep self.op and op\n",
        "\n",
        "  def add(self):\n",
        "    '''Adds two numers'''\n",
        "    return (self.num1 + self.num2)\n",
        "\n",
        "  def sub(self):\n",
        "    '''Subtracts one number from another'''\n",
        "    return (self.num1 - self.num2)\n",
        "\n",
        "  def mult(self):\n",
        "    '''Multiplies two numbers'''\n",
        "    return (self.num1 * self.num2)\n",
        "\n",
        "  def div(self):\n",
        "    '''Divides one number by another\n",
        "      Returns undefined if division by 0'''\n",
        "    try:\n",
        "      return self.num1 / self.num2\n",
        "    except ZeroDivisionError:\n",
        "      return 'undefined'\n",
        "\n",
        "  def exp(self):\n",
        "    '''Raises one number to power of other number'''\n",
        "    return self.num1 ** self.num2\n",
        "\n",
        "  def factorial(self):\n",
        "    '''Finds factorial of first numbered entered'''\n",
        "    factorial = self.num1\n",
        "    num = int(self.num1)\n",
        "    for i in range(1, num):\n",
        "      factorial = factorial * i\n",
        "    return factorial\n",
        "\n",
        "  def user_input():\n",
        "    #function for user input loop, need to work on still\n",
        "    pass\n",
        "\n",
        "  def calculations():\n",
        "    #need to take from calculate function\n",
        "    pass\n",
        "\n",
        "  def tester(self):\n",
        "    '''Tests each function operation within class\n",
        "        on 2 input numbers'''\n",
        "    results = Calculator(self.num1,self.num2)\n",
        "    ops = {'+':results.add(),\n",
        "            '-':results.sub(),\n",
        "            '*':results.mult(),\n",
        "            '/':results.div(),\n",
        "            '**':results.exp(),\n",
        "            '!':results.factorial()}\n",
        "    actual_results = list(ops.values())\n",
        "    op_list = list(ops.keys())\n",
        "    expected_result = [i for i in actual_results]\n",
        "    num1_list = [float(self.num1) for i in range(6)]\n",
        "    num2_list = [float(self.num2) for i in range(6)]\n",
        "    for i in op_list:\n",
        "      n = 0\n",
        "      while n <= 5:\n",
        "        print(f'{num1_list[n]} {op_list[n]} {num2_list[n]} = {actual_results[n]}')\n",
        "        if (expected_result[n] == actual_results[n]):\n",
        "          print('Calculation is correct')\n",
        "          n += 1\n",
        "        else:\n",
        "          print('Calculation is incorrect')\n",
        "      print(f'Facotrial of {self.num1} = {actual_results[-1]}')\n",
        "      return\n",
        "\n",
        "\n",
        "\n",
        "  def calculate():\n",
        "    print('Greetings, what would you like to calculate?')\n",
        "    print('I do arithmetic and factorials')\n",
        "    print('To calculate factorials,')\n",
        "    print('enter second number as 0, and choose ! for operation')\n",
        "    keep_going = 'y'\n",
        "    while keep_going == 'y':\n",
        "      try:\n",
        "        num1 = float(input('Enter first number: '))\n",
        "        num2 = float(input('Enter second number: '))\n",
        "      except ValueError:\n",
        "        print('Invalid input, lets restart')\n",
        "        continue\n",
        "      calc = Calculator(num1, num2)\n",
        "      op = input('Operation? (+, -, *, /, **, !)')\n",
        "      if (op == '+'):\n",
        "        result = calc.add()\n",
        "      if (op == '-'):\n",
        "        result = calc.sub()\n",
        "      if (op == '*'):\n",
        "        result = calc.mult()\n",
        "      if (op == '/'):\n",
        "        result = calc.div()\n",
        "      if (op == '**'):\n",
        "        result = calc.exp()\n",
        "      if (op == '!'):\n",
        "        result = calc.factorial()\n",
        "\n",
        "      print(f'Result of {num1} {op} {num2} = {result}')\n",
        "      keep_going = input('Would you like to do another calculation (y/n)?')\n",
        "      if (keep_going == 'n'):\n",
        "        print('Goodbye')\n",
        "\n"
      ],
      "metadata": {
        "id": "Km_N8tWV1qvz"
      },
      "execution_count": 3,
      "outputs": []
    },
    {
      "cell_type": "code",
      "source": [
        "testing = Calculator(5,1)\n",
        "testing.tester()"
      ],
      "metadata": {
        "colab": {
          "base_uri": "https://localhost:8080/"
        },
        "id": "WVLetqpmcXff",
        "outputId": "649937de-d387-4108-8eca-58b1c8d4515b"
      },
      "execution_count": 4,
      "outputs": [
        {
          "output_type": "stream",
          "name": "stdout",
          "text": [
            "5.0 + 1.0 = 6.0\n",
            "Calculation is correct\n",
            "5.0 - 1.0 = 4.0\n",
            "Calculation is correct\n",
            "5.0 * 1.0 = 5.0\n",
            "Calculation is correct\n",
            "5.0 / 1.0 = 5.0\n",
            "Calculation is correct\n",
            "5.0 ** 1.0 = 5.0\n",
            "Calculation is correct\n",
            "5.0 ! 1.0 = 120.0\n",
            "Calculation is correct\n",
            "Facotrial of 5.0 = 120.0\n"
          ]
        }
      ]
    },
    {
      "cell_type": "code",
      "source": [
        "Calculator.calculate()"
      ],
      "metadata": {
        "colab": {
          "base_uri": "https://localhost:8080/"
        },
        "id": "QFZzKJ_DMWmD",
        "outputId": "c29cf535-ee53-498b-d00b-526ff17b8662"
      },
      "execution_count": 11,
      "outputs": [
        {
          "output_type": "stream",
          "name": "stdout",
          "text": [
            "Greetings, what would you like to calculate?\n",
            "I do arithmetic and factorials\n",
            "To calculate factorials,\n",
            "enter second number as 0, and choose ! for operation\n",
            "Enter first number: 4\n",
            "Enter second number: 0\n",
            "Operation? (+, -, *, /, **, !)/\n",
            "Result of 4.0 / 0.0 = undefined\n",
            "Would you like to do another calculation (y/n)?y\n",
            "Enter first number: 9\n",
            "Enter second number: 0\n",
            "Operation? (+, -, *, /, **, !)!\n",
            "Result of 9.0 ! 0.0 = 362880.0\n",
            "Would you like to do another calculation (y/n)?y\n",
            "Enter first number: 4\n",
            "Enter second number: t\n",
            "Invalid input, lets restart\n",
            "Enter first number: 8\n",
            "Enter second number: 8\n",
            "Operation? (+, -, *, /, **, !)+\n",
            "Result of 8.0 + 8.0 = 16.0\n",
            "Would you like to do another calculation (y/n)?n\n",
            "Goodbye\n"
          ]
        }
      ]
    },
    {
      "cell_type": "code",
      "source": [
        "#tester(5,60)"
      ],
      "metadata": {
        "id": "u5I1rCfvW_kD"
      },
      "execution_count": 12,
      "outputs": []
    },
    {
      "cell_type": "markdown",
      "source": [
        "# class Calculator2\n"
      ],
      "metadata": {
        "id": "8NtD-5dK8qoS"
      }
    },
    {
      "cell_type": "code",
      "source": [
        "class Calculator2:\n",
        "\n",
        "\n",
        "  def __init__(self, num1, num2):\n",
        "    self.num1 = num1\n",
        "    self.num2 = num2\n",
        "    #self.op = op\n",
        "\n",
        "  def input_loop(self):\n",
        "    keep_going == 'y'\n",
        "    print('I perform basic calculations between 2 numbers')\n",
        "    while keep_going == 'y':\n",
        "      try:\n",
        "        num1 = float(input('Enter your first number'))\n",
        "        num2 = float(input('Enter your second number'))\n",
        "      except ValueError:\n",
        "        print('Invalid input, lets restart')\n",
        "      op = input('Which operation would you like to perform? (+, -, *, /, **)')\n",
        "      keep_going = input('Would you like to continue? (y/n)')\n",
        "      if keep_going == 'n':\n",
        "        print('Goodbye')\n",
        "\n",
        "\n",
        "\n",
        "\n",
        "  def add(self):\n",
        "    '''Adds two numers'''\n",
        "    if (op == '+'):\n",
        "      return (self.num1 + self.num2)\n",
        "\n",
        "  def sub(self):\n",
        "    '''Subtracts one number from another'''\n",
        "    if (op == '-'):\n",
        "      return (self.num1 - self.num2)\n",
        "\n",
        "  def mult(self):\n",
        "    '''Multiplies two numbers'''\n",
        "    if (op == '*'):\n",
        "      return (self.num1 * self.num2)\n",
        "\n",
        "  def div(self):\n",
        "    '''Divides one number by another\n",
        "      Returns undefined if division by 0'''\n",
        "    if (op == '/'):\n",
        "      try:\n",
        "        return self.num1 / self.num2\n",
        "      except ZeroDivisionError:\n",
        "        return 'undefined'\n",
        "\n",
        "  def exp(self):\n",
        "    '''Raises one number to power of other number'''\n",
        "    if (self== '**'):\n",
        "      return self.num1 ** self.num2\n",
        ""
      ],
      "metadata": {
        "id": "pwTAmqES8uja"
      },
      "execution_count": 18,
      "outputs": []
    },
    {
      "cell_type": "code",
      "source": [
        "try1 = Calculator2(1,2)\n",
        "try1.input_loop()"
      ],
      "metadata": {
        "colab": {
          "base_uri": "https://localhost:8080/",
          "height": 322
        },
        "id": "T2oKkznm-RXM",
        "outputId": "8889038d-caf2-4b58-dc68-0afb2684d72a"
      },
      "execution_count": 15,
      "outputs": [
        {
          "output_type": "error",
          "ename": "UnboundLocalError",
          "evalue": "ignored",
          "traceback": [
            "\u001b[0;31m---------------------------------------------------------------------------\u001b[0m",
            "\u001b[0;31mUnboundLocalError\u001b[0m                         Traceback (most recent call last)",
            "\u001b[0;32m<ipython-input-15-6f981a2ac886>\u001b[0m in \u001b[0;36m<cell line: 2>\u001b[0;34m()\u001b[0m\n\u001b[1;32m      1\u001b[0m \u001b[0mtry1\u001b[0m \u001b[0;34m=\u001b[0m \u001b[0mCalculator2\u001b[0m\u001b[0;34m(\u001b[0m\u001b[0;36m1\u001b[0m\u001b[0;34m,\u001b[0m\u001b[0;36m2\u001b[0m\u001b[0;34m)\u001b[0m\u001b[0;34m\u001b[0m\u001b[0;34m\u001b[0m\u001b[0m\n\u001b[0;32m----> 2\u001b[0;31m \u001b[0mtry1\u001b[0m\u001b[0;34m.\u001b[0m\u001b[0minput_loop\u001b[0m\u001b[0;34m(\u001b[0m\u001b[0;34m)\u001b[0m\u001b[0;34m\u001b[0m\u001b[0;34m\u001b[0m\u001b[0m\n\u001b[0m",
            "\u001b[0;32m<ipython-input-13-8086a7ac6973>\u001b[0m in \u001b[0;36minput_loop\u001b[0;34m(self)\u001b[0m\n\u001b[1;32m      7\u001b[0m \u001b[0;34m\u001b[0m\u001b[0m\n\u001b[1;32m      8\u001b[0m   \u001b[0;32mdef\u001b[0m \u001b[0minput_loop\u001b[0m\u001b[0;34m(\u001b[0m\u001b[0mself\u001b[0m\u001b[0;34m)\u001b[0m\u001b[0;34m:\u001b[0m\u001b[0;34m\u001b[0m\u001b[0;34m\u001b[0m\u001b[0m\n\u001b[0;32m----> 9\u001b[0;31m     \u001b[0mkeep_going\u001b[0m \u001b[0;34m==\u001b[0m \u001b[0;34m'y'\u001b[0m\u001b[0;34m\u001b[0m\u001b[0;34m\u001b[0m\u001b[0m\n\u001b[0m\u001b[1;32m     10\u001b[0m     \u001b[0mprint\u001b[0m\u001b[0;34m(\u001b[0m\u001b[0;34m'I perform basic calculations between 2 numbers'\u001b[0m\u001b[0;34m)\u001b[0m\u001b[0;34m\u001b[0m\u001b[0;34m\u001b[0m\u001b[0m\n\u001b[1;32m     11\u001b[0m     \u001b[0;32mwhile\u001b[0m \u001b[0mkeep_going\u001b[0m \u001b[0;34m==\u001b[0m \u001b[0;34m'y'\u001b[0m\u001b[0;34m:\u001b[0m\u001b[0;34m\u001b[0m\u001b[0;34m\u001b[0m\u001b[0m\n",
            "\u001b[0;31mUnboundLocalError\u001b[0m: local variable 'keep_going' referenced before assignment"
          ]
        }
      ]
    },
    {
      "cell_type": "markdown",
      "source": [
        "# Stored code(in progress)"
      ],
      "metadata": {
        "id": "XJEAfksfe3Bz"
      }
    },
    {
      "cell_type": "code",
      "source": [
        "#first attempt\n",
        "'''class Calculator:\n",
        "  def __init__(self, num1: float, num2: float, op:str):\n",
        "    self.num1 = num1\n",
        "    self.num2 = num2\n",
        "    self.op = op\n",
        "  def calculate(self):\n",
        "    result = userInputCalc()\n",
        "    return result'''"
      ],
      "metadata": {
        "id": "5UbXTnQ0ff2Z"
      },
      "execution_count": null,
      "outputs": []
    },
    {
      "cell_type": "code",
      "source": [
        "#still working on this one, i want to try to get it to test do all operations in 1 run\n",
        "\n",
        "def tester1(num1, num2):\n",
        "  results = Calculator(num1,num2)\n",
        "  ops = {'+':results.add(),\n",
        "          '-':results.sub(),\n",
        "          '*':results.mult(),\n",
        "          '/':results.div(),\n",
        "          '**':results.exp(),\n",
        "          '!':results.factorial()}\n",
        "  #print(ops)\n",
        "  d = dict()\n",
        "  actual_results = list(ops.values())\n",
        "  op_list = list(ops.keys())\n",
        "  num1_list = [float(num1) for i in range(6)]\n",
        "  num2_list = [float(num2) for i in range(6)]\n",
        "  for i in op_list:\n",
        "    n = 0\n",
        "    while n <= 5:\n",
        "      print(f'{num1_list[n]} {op_list[n]} {num2_list[n]} = {actual_results[n]}')\n",
        "      n += 1\n",
        "    print(f'Facotrial value is based off of {num1}')\n",
        "    return\n",
        "\n",
        "\n",
        "\n",
        "  #for i in actual_results:\n",
        "    #if expected_result == i:\n",
        "     # print(f'Calulated result of {num1} {list(ops.keys())} {num2} is {list(ops.values())}')\n",
        "\n",
        "\n",
        "tester(5,48)\n",
        "\n"
      ],
      "metadata": {
        "colab": {
          "base_uri": "https://localhost:8080/"
        },
        "id": "30rtccWTu7OB",
        "outputId": "5bb0d76c-07a9-41a9-a12d-aa51b29fbaec"
      },
      "execution_count": 226,
      "outputs": [
        {
          "output_type": "stream",
          "name": "stdout",
          "text": [
            "5.0 + 48.0 = 53.0\n",
            "5.0 - 48.0 = -43.0\n",
            "5.0 * 48.0 = 240.0\n",
            "5.0 / 48.0 = 0.10416666666666667\n",
            "5.0 ** 48.0 = 3.552713678800501e+33\n",
            "5.0 ! 48.0 = 120.0\n",
            "Facotrial value is based off of 5\n"
          ]
        }
      ]
    },
    {
      "cell_type": "code",
      "source": [
        "sample = Calculator()"
      ],
      "metadata": {
        "id": "Qn6E_OuT1jv6"
      },
      "execution_count": null,
      "outputs": []
    },
    {
      "cell_type": "code",
      "source": [
        "result = Calculator(5,0)\n",
        "print(result.add())\n",
        "print(result.mult())\n",
        "print(result.div())\n",
        "print(result.factorial())"
      ],
      "metadata": {
        "id": "euDmDqgx2yaR"
      },
      "execution_count": null,
      "outputs": []
    },
    {
      "cell_type": "code",
      "source": [
        "#Was trying to implement into calculate function\n",
        "\n",
        "ops = {'+':Calculator.add(),\n",
        "          '-':Calculator.sub(),\n",
        "          '*':Calculator.mult(),\n",
        "          '/':Calculator.div(),\n",
        "          '**':Calculator.exp(),\n",
        "          '!':calc.factorial()}\n",
        "for i in ops.keys():\n",
        "  print(i)\n",
        "  if op == i:\n",
        "    val = ops.get(i)\n",
        "    result = Calculator.calculate()\n",
        "  return result"
      ],
      "metadata": {
        "id": "CWGfvAlw-rQW"
      },
      "execution_count": null,
      "outputs": []
    },
    {
      "cell_type": "code",
      "source": [
        "#def user_input():\n",
        "    keep_going = 'y'\n",
        "    while keep_going == 'y':\n",
        "      try:\n",
        "        num1 = float(input('Enter first number: '))\n",
        "      except ValueError:\n",
        "        print('Invalid input, re-enter first number')\n",
        "      try:\n",
        "        num2 = float(input('Enter second number: '))\n",
        "      except ValueError:\n",
        "        print('Invalid input, re-enter second number')\n",
        "\n",
        "      calc = Calculator(num1, num2)\n",
        "      op = input('What operation would you like to perform (+, -, *, /, **, !)')\n",
        "      if op == '+':\n",
        "        return calc.add()\n",
        "      if op == '-':\n",
        "        return calc.sub()\n",
        "      if op == '*':\n",
        "        return calc.mult()\n",
        "      if op == '/':\n",
        "        return calc.div()\n",
        "      if op == '**':\n",
        "        return calc.exp()\n",
        "      if op == '!':\n",
        "        return calc.factorial()"
      ],
      "metadata": {
        "id": "FCFvyXP2b8zX"
      },
      "execution_count": null,
      "outputs": []
    }
  ]
}